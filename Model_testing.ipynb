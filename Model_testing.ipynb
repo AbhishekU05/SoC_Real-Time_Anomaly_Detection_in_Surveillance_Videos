{
  "cells": [
    {
      "cell_type": "markdown",
      "metadata": {
        "id": "view-in-github",
        "colab_type": "text"
      },
      "source": [
        "<a href=\"https://colab.research.google.com/github/AbhishekU05/SoC_Real-Time_Anomaly_Detection_in_Surveillance_Videos/blob/main/Model_testing.ipynb\" target=\"_parent\"><img src=\"https://colab.research.google.com/assets/colab-badge.svg\" alt=\"Open In Colab\"/></a>"
      ]
    },
    {
      "cell_type": "markdown",
      "metadata": {
        "id": "_dfdsgTyt8B3"
      },
      "source": [
        "# Tracking + Anomaly Detection in Avenue Dataset"
      ]
    },
    {
      "cell_type": "markdown",
      "metadata": {
        "id": "8YbQF2_PcqDP"
      },
      "source": [
        "## Dataset used: **Avenue Dataset for Abnormal Event Detection**\n",
        "\n",
        "\n",
        "\n",
        "This dataset accompanies paper \"Abnormal Event Detection at 150 FPS in Matlab, Cewu Lu, Jianping Shi, Jiaya Jia, International Conference on Computer Vision, (ICCV), 2013\"\n",
        "\n",
        "\n",
        "\n",
        "\n",
        "\n",
        "\n",
        "\n"
      ]
    },
    {
      "cell_type": "markdown",
      "metadata": {
        "id": "DqRlvJ8MjRTY"
      },
      "source": [
        "### Importing required libraries"
      ]
    },
    {
      "cell_type": "code",
      "execution_count": 1,
      "metadata": {
        "id": "h7mvFO0Zyzhu"
      },
      "outputs": [],
      "source": [
        "import os\n",
        "import cv2\n",
        "import torch\n",
        "import shutil\n",
        "import random\n",
        "import numpy as np\n",
        "from glob import glob\n",
        "from tqdm import tqdm\n",
        "import matplotlib.pyplot as plt\n",
        "\n",
        "np.random.seed(42)"
      ]
    },
    {
      "cell_type": "markdown",
      "metadata": {
        "id": "vUy2t50OjY9p"
      },
      "source": [
        "### Mount google drive\n"
      ]
    },
    {
      "cell_type": "code",
      "execution_count": null,
      "metadata": {
        "id": "pZebTkVHfbW7"
      },
      "outputs": [],
      "source": [
        "from google.colab import drive\n",
        "drive.mount('/content/drive')"
      ]
    },
    {
      "cell_type": "markdown",
      "metadata": {
        "id": "k6AQK1V8vZZh"
      },
      "source": [
        "```\n",
        "Avenue Dataset\n",
        " └── testing_videos\n",
        " └── testing_vol\n",
        " └── training_videos\n",
        " └── training_vol\n",
        "     \n",
        "```"
      ]
    },
    {
      "cell_type": "code",
      "execution_count": null,
      "metadata": {
        "id": "BfJ5M2ZopYhO"
      },
      "outputs": [],
      "source": [
        "if not os.path.exists('yolov5'):\n",
        "    !git clone https://github.com/ultralytics/yolov5.git"
      ]
    },
    {
      "cell_type": "code",
      "execution_count": null,
      "metadata": {
        "id": "Rt_0iiS4pb7B"
      },
      "outputs": [],
      "source": [
        "%cd yolov5/\n",
        "!pwd"
      ]
    },
    {
      "cell_type": "code",
      "execution_count": null,
      "metadata": {
        "collapsed": true,
        "id": "din1F2sgphQE"
      },
      "outputs": [],
      "source": [
        "!pip install -r requirements.txt"
      ]
    },
    {
      "cell_type": "code",
      "execution_count": null,
      "metadata": {
        "id": "BkoIBSI-29eZ"
      },
      "outputs": [],
      "source": [
        "%cd /content"
      ]
    },
    {
      "cell_type": "markdown",
      "metadata": {
        "id": "En6k1NJLZ-tt"
      },
      "source": [
        "#### Use the best YOLOv5 model u have trained"
      ]
    },
    {
      "cell_type": "code",
      "execution_count": null,
      "metadata": {
        "id": "Ef1KSoQ-xlx2"
      },
      "outputs": [],
      "source": [
        "model_path = 'drive/MyDrive/SoC/best.pt'"
      ]
    },
    {
      "cell_type": "code",
      "execution_count": null,
      "metadata": {
        "collapsed": true,
        "id": "zo_Ug2S-1Myz"
      },
      "outputs": [],
      "source": [
        "# Load YOLOv5 model\n",
        "model = torch.hub.load('yolov5', 'custom', path= model_path, source='local')\n",
        "model.conf = 0.35\n",
        "model.iou = 0.45"
      ]
    },
    {
      "cell_type": "code",
      "execution_count": null,
      "metadata": {
        "id": "K44r_mWhbQYQ"
      },
      "outputs": [],
      "source": [
        "! pip install deep_sort_realtime opencv-python tqdm"
      ]
    },
    {
      "cell_type": "code",
      "execution_count": null,
      "metadata": {
        "id": "jcKbNTGMbSBl"
      },
      "outputs": [],
      "source": [
        "from deep_sort_realtime.deepsort_tracker import DeepSort"
      ]
    },
    {
      "cell_type": "code",
      "execution_count": null,
      "metadata": {
        "id": "6TzsKIjEVp0D"
      },
      "outputs": [],
      "source": [
        "output_video_folder = os.makedirs('output_video_folder', exist_ok = True)"
      ]
    },
    {
      "cell_type": "code",
      "execution_count": null,
      "metadata": {
        "id": "an-Tpi9bt7W_"
      },
      "outputs": [],
      "source": [
        "input_video_path = '/content/drive/MyDrive/SoC/Avenue_Dataset/Avenue Dataset/testing_videos/01.avi'\n",
        "output_video_path = './output_video_folder/lol.mp4'"
      ]
    },
    {
      "cell_type": "markdown",
      "metadata": {
        "id": "pj1YeOdDd-3D"
      },
      "source": [
        "### Tune the below parameters"
      ]
    },
    {
      "cell_type": "code",
      "execution_count": null,
      "metadata": {
        "id": "Ub64ewdId5LC"
      },
      "outputs": [],
      "source": [
        "N_history = 12            # how many frames to use for velocity calc\n",
        "smoothing_frames = 5     # Smoothing: once RED, stay RED for N frames\n",
        "velocity_threshold = 235   # Velocity threshold (pixels per second)"
      ]
    },
    {
      "cell_type": "code",
      "execution_count": null,
      "metadata": {
        "id": "MY4UrhCm1MlW"
      },
      "outputs": [],
      "source": [
        "# Init DeepSORT tracker\n",
        "tracker = DeepSort(max_age=30)\n",
        "\n",
        "# Input video\n",
        "cap = cv2.VideoCapture(input_video_path)\n",
        "\n",
        "# Get video info\n",
        "fps = cap.get(cv2.CAP_PROP_FPS)\n",
        "width  = int(cap.get(cv2.CAP_PROP_FRAME_WIDTH))\n",
        "height = int(cap.get(cv2.CAP_PROP_FRAME_HEIGHT))\n",
        "frame_count = int(cap.get(cv2.CAP_PROP_FRAME_COUNT))\n",
        "print(f\"Video: {fps} FPS, {width}x{height}, {frame_count} frames\")\n",
        "\n",
        "# Prepare output video writer\n",
        "fourcc = cv2.VideoWriter_fourcc(*'mp4v')\n",
        "out = cv2.VideoWriter(output_video_path, fourcc, fps, (width, height))\n",
        "\n",
        "import warnings\n",
        "warnings.filterwarnings(\"ignore\", category=FutureWarning)\n",
        "\n",
        "read_count = 0\n",
        "frame_idx = 0\n",
        "pbar = tqdm(total=frame_count)\n",
        "\n",
        "track_memory = {}     # Memory for tracking: store last N positions\n",
        "anomaly_memory = {}   # store last anomaly state (for smoothing)\n",
        "\n",
        "saved_anomaly_ids = set()   # to avoid saving duplicates\n",
        "max_anomaly_frames = 500    # limit on the frames saved\n",
        "\n",
        "while cap.isOpened():\n",
        "    ret, frame = cap.read()\n",
        "    if not ret:\n",
        "        break\n",
        "\n",
        "    # YOLO Inference\n",
        "    results = model(frame)\n",
        "    detections = results.xyxy[0].cpu().numpy()  # (xmin, ymin, xmax, ymax, conf, cls)\n",
        "\n",
        "    # Format detections for DeepSORT\n",
        "    formatted_detections = []\n",
        "    for d in detections:\n",
        "        xmin, ymin, xmax, ymax, conf, cls = d\n",
        "        width_box = xmax - xmin\n",
        "        height_box = ymax - ymin\n",
        "        box = [xmin, ymin, width_box, height_box]\n",
        "        formatted_detections.append([box, conf])\n",
        "\n",
        "    # Update tracker\n",
        "    tracks = tracker.update_tracks(formatted_detections, frame=frame)\n",
        "\n",
        "    # Draw tracks\n",
        "    for track in tracks:\n",
        "        if not track.is_confirmed():\n",
        "            continue\n",
        "\n",
        "        track_id = track.track_id   # unique ID assigned to the pedestrian\n",
        "        ltrb = track.to_ltrb()      # gives [left, top, right, bottom] of bounding box\n",
        "        xmin, ymin, xmax, ymax = map(int, ltrb)\n",
        "\n",
        "        # Center point\n",
        "        center_x = (xmin + xmax) / 2\n",
        "        center_y = (ymin + ymax) / 2\n",
        "\n",
        "        # Update history\n",
        "        track_memory.setdefault(track_id, []).append((frame_idx, center_x, center_y))\n",
        "        track_memory[track_id] = track_memory[track_id][-N_history:]\n",
        "\n",
        "        # Calculate velocity\n",
        "        if len(track_memory[track_id]) >= 2:\n",
        "            f1, x1, y1 = track_memory[track_id][0]\n",
        "            f2, x2, y2 = track_memory[track_id][-1]\n",
        "\n",
        "            dt = (f2 - f1) / fps  # time in seconds\n",
        "            dx = x2 - x1\n",
        "            dy = y2 - y1\n",
        "            distance = np.sqrt(dx**2 + dy**2)\n",
        "\n",
        "            velocity = distance / (dt + 1e-6)  # avoid zero div\n",
        "\n",
        "            # Anomaly flag\n",
        "            if velocity > velocity_threshold:\n",
        "                anomaly = True\n",
        "            else:\n",
        "                anomaly = False\n",
        "        else:\n",
        "            anomaly = False\n",
        "\n",
        "\n",
        "        if anomaly:\n",
        "            anomaly_memory[track_id] = frame_idx  # mark when anomaly seen\n",
        "\n",
        "        if track_id in anomaly_memory:\n",
        "            if frame_idx - anomaly_memory[track_id] <= smoothing_frames:\n",
        "                anomaly = True  # force RED\n",
        "\n",
        "        # Drawing boxes only around the anomaly\n",
        "        if anomaly:\n",
        "\n",
        "          label = f\"ID {track_id} {'ANOMALY'}\"\n",
        "          color = (0, 0, 255)\n",
        "\n",
        "          cv2.rectangle(frame, (xmin, ymin), (xmax, ymax), color, 1)\n",
        "          cv2.putText(frame, label, (xmin, ymin - 10), cv2.FONT_HERSHEY_SIMPLEX, 0.6, color, 2)\n",
        "\n",
        "\n",
        "    # Write frame\n",
        "    out.write(frame)\n",
        "\n",
        "    frame_idx += 1\n",
        "    read_count += 1\n",
        "    pbar.update(1)\n",
        "\n",
        "pbar.close()\n",
        "cap.release()\n",
        "out.release()\n",
        "\n",
        "print(f\"Frames read: {read_count} / {frame_count}\")\n",
        "print(f\"\\n DONE — output saved to: {output_video_path}\")"
      ]
    },
    {
      "cell_type": "markdown",
      "metadata": {
        "id": "lPs1w9IVegbU"
      },
      "source": [
        "\n",
        "\n",
        "####  Check for different test videos"
      ]
    },
    {
      "cell_type": "code",
      "execution_count": null,
      "metadata": {
        "id": "bea78f40"
      },
      "outputs": [],
      "source": [
        "import os\n",
        "import cv2\n",
        "\n",
        "\n",
        "# Check if file exists\n",
        "if os.path.exists(input_video_path):\n",
        "    print(f\"File exists at: {input_video_path}\")\n",
        "else:\n",
        "    print(f\"File not found at: {input_video_path}\")\n",
        "\n",
        "# Try opening a dummy video file (if possible, or just check if VideoCapture works)\n",
        "cap_test = cv2.VideoCapture()\n",
        "print(f\"OpenCV VideoCapture can be initialized: {cap_test.isOpened()}\")\n",
        "cap_test.release()"
      ]
    },
    {
      "cell_type": "code",
      "execution_count": null,
      "metadata": {
        "id": "e552d780"
      },
      "outputs": [],
      "source": [
        "import os\n",
        "\n",
        "output_folder_path = './output_video_folder/'\n",
        "\n",
        "if os.path.exists(output_folder_path):\n",
        "    print(f\"Contents of {output_folder_path}:\")\n",
        "    for item in os.listdir(output_folder_path):\n",
        "        print(item)\n",
        "else:\n",
        "    print(f\"The directory {output_folder_path} does not exist.\")"
      ]
    }
  ],
  "metadata": {
    "accelerator": "GPU",
    "colab": {
      "gpuType": "T4",
      "provenance": [],
      "include_colab_link": true
    },
    "kernelspec": {
      "display_name": "Python 3",
      "name": "python3"
    },
    "language_info": {
      "name": "python"
    }
  },
  "nbformat": 4,
  "nbformat_minor": 0
}